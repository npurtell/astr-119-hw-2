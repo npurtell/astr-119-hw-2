{
 "cells": [
  {
   "cell_type": "code",
   "execution_count": null,
   "metadata": {},
   "outputs": [],
   "source": [
    "%matplotlib inline\n",
    "import numpy as np\n",
    "import matplotlib.pyplot as plt"
   ]
  },
  {
   "cell_type": "code",
   "execution_count": null,
   "metadata": {},
   "outputs": [],
   "source": [
    "x = np.linspace(0, 2*np.pi, 1000)\n",
    "\n",
    "y_a = 5.5*np.cos(2*x) + 5.5\n",
    "y_b = 0.02*np.exp(x)\n",
    "y_c = 0.25*x**2 + 0.1*np.sin(10*x)"
   ]
  },
  {
   "cell_type": "code",
   "execution_count": null,
   "metadata": {},
   "outputs": [],
   "source": [
    "plt.plot(x, y_a, label='What It Is')\n",
    "plt.plot(x, y_b, label='What It Could Be')\n",
    "plt.plot(x, y_c, label='What I Wish')\n",
    "\n",
    "plt.xlabel('Time in Astr 119')\n",
    "plt.ylabel('Measures of Awesomeness')\n",
    "plt.xlim([0, 2*np.pi])\n",
    "plt.ylim([-1, 10])\n",
    "\n",
    "plt.legend(loc=1, framealpha=0.95)"
   ]
  },
  {
   "cell_type": "code",
   "execution_count": null,
   "metadata": {},
   "outputs": [],
   "source": []
  }
 ],
 "metadata": {
  "kernelspec": {
   "display_name": "Python 3",
   "language": "python",
   "name": "python3"
  },
  "language_info": {
   "codemirror_mode": {
    "name": "ipython",
    "version": 3
   },
   "file_extension": ".py",
   "mimetype": "text/x-python",
   "name": "python",
   "nbconvert_exporter": "python",
   "pygments_lexer": "ipython3",
   "version": "3.6.5"
  }
 },
 "nbformat": 4,
 "nbformat_minor": 2
}
